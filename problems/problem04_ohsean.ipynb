{
 "cells": [
  {
   "cell_type": "markdown",
   "metadata": {},
   "source": [
    "# Iterable에 사용가능한 함수\n",
    "\n",
    "### `map`, `filter`, `zip` 이외의 함수들"
   ]
  },
  {
   "cell_type": "markdown",
   "metadata": {},
   "source": [
    "# `all()`\n",
    "\n",
    "> all은 인자로 받는 iterable(range, list)의 모든 요소가 참이거나 비어있으면 True를 반환합니다.\n",
    ">\n",
    "> 이와 같은 my_all(x)을 작성해보세요"
   ]
  },
  {
   "cell_type": "code",
   "execution_count": 4,
   "metadata": {},
   "outputs": [
    {
     "name": "stdout",
     "output_type": "stream",
     "text": [
      "True\n",
      "False\n",
      "True\n"
     ]
    }
   ],
   "source": [
    "# 예제 입력 및 출력\n",
    "print(all([1, 2, 5, '6']))\n",
    "print(all([[], 2, 5, '6']))\n",
    "print(all([]))"
   ]
  },
  {
   "cell_type": "code",
   "execution_count": 8,
   "metadata": {},
   "outputs": [],
   "source": [
    "# 아래에 코드를 작성해주세요.\n",
    "def my_all(x):\n",
    "    for i in x:\n",
    "        if i:\n",
    "            continue            \n",
    "        else:\n",
    "            return False\n",
    "    return True\n",
    "\n",
    "def my_all2(x):\n",
    "    for i in x:\n",
    "        if not i:\n",
    "            return False\n",
    "    return True\n",
    "    "
   ]
  },
  {
   "cell_type": "code",
   "execution_count": 10,
   "metadata": {},
   "outputs": [
    {
     "name": "stdout",
     "output_type": "stream",
     "text": [
      "True\n",
      "False\n",
      "True\n",
      "\n",
      "True\n",
      "False\n",
      "True\n"
     ]
    }
   ],
   "source": [
    "# 예제 입력 및 출력\n",
    "print(my_all([1, 2, 5, '6']))\n",
    "print(my_all([[], 2, 5, '6']))\n",
    "print(my_all([]))\n",
    "print()\n",
    "print(my_all2([1, 2, 5, '6']))\n",
    "print(my_all2([[], 2, 5, '6']))\n",
    "print(my_all2([]))"
   ]
  },
  {
   "cell_type": "markdown",
   "metadata": {},
   "source": [
    "# `any()`\n",
    "\n",
    "> any는 인자로 받는 iterable(range, list)의 요소 중 하나라도 참이면 True를 반환하고, 비어있으면 False를 반환합니다.\n",
    ">\n",
    "> 이와 같은 my_any(x)를 작성해보세요."
   ]
  },
  {
   "cell_type": "code",
   "execution_count": 13,
   "metadata": {},
   "outputs": [
    {
     "name": "stdout",
     "output_type": "stream",
     "text": [
      "True\n",
      "True\n",
      "False\n"
     ]
    }
   ],
   "source": [
    "# 예제 입력 및 출력\n",
    "print(any([1, 2, 5, '6']))\n",
    "print(any([[], 2, 5, '6']))\n",
    "print(any([]))"
   ]
  },
  {
   "cell_type": "code",
   "execution_count": 11,
   "metadata": {},
   "outputs": [],
   "source": [
    "# 아래에 코드를 작성해주세요.\n",
    "def my_any(x):\n",
    "    for i in x:\n",
    "        if i:\n",
    "            return True\n",
    "    return False\n",
    "    "
   ]
  },
  {
   "cell_type": "code",
   "execution_count": 14,
   "metadata": {},
   "outputs": [
    {
     "name": "stdout",
     "output_type": "stream",
     "text": [
      "True\n",
      "True\n",
      "False\n"
     ]
    }
   ],
   "source": [
    "# my_any 예제 입력 및 출력\n",
    "print(my_any([1, 2, 5, '6']))\n",
    "print(my_any([[], 2, 5, '6']))\n",
    "print(my_any([]))"
   ]
  },
  {
   "cell_type": "markdown",
   "metadata": {},
   "source": [
    "# 연습문제\n",
    "\n",
    "container 활용 및 함수 관련 문제\n",
    "(**Comprehension 및 iterable 관련 함수들을 최대한 활용해보세요.**)"
   ]
  },
  {
   "cell_type": "markdown",
   "metadata": {},
   "source": [
    "### 소수 찾기\n",
    "\n",
    "> 조건, 반복문을 응용하여 numbers 리스트의 요소들이 소수인지 아닌지 판단하는 코드를 작성하라.\n",
    "\n",
    "```\n",
    "26 는 소수가 아닙니다. 2 는 26 의 인수입니다.\n",
    "39 는 소수가 아닙니다. 3 는 39 의 인수입니다.\n",
    "51 는 소수가 아닙니다. 3 는 51 의 인수입니다.\n",
    "53 는 소수입니다.\n",
    "57 는 소수가 아닙니다. 3 는 57 의 인수입니다.\n",
    "79 는 소수입니다.\n",
    "85 는 소수가 아닙니다. 5 는 85 의 인수입니다.\n",
    "```"
   ]
  },
  {
   "cell_type": "code",
   "execution_count": 15,
   "metadata": {},
   "outputs": [
    {
     "name": "stdout",
     "output_type": "stream",
     "text": [
      "26 는 소수가 아닙니다. 2 는 26 의 인수입니다.\n",
      "39 는 소수가 아닙니다. 3 는 39 의 인수입니다.\n",
      "51 는 소수가 아닙니다. 3 는 51 의 인수입니다.\n",
      "53 는 소수입니다.\n",
      "57 는 소수가 아닙니다. 3 는 57 의 인수입니다.\n",
      "79 는 소수입니다.\n",
      "85 는 소수가 아닙니다. 5 는 85 의 인수입니다.\n"
     ]
    }
   ],
   "source": [
    "numbers = [26, 39, 51, 53, 57, 79, 85]\n",
    "# 아래에 코드를 작성하세요\n",
    "for i in numbers:\n",
    "    for x in range(2,int(i**0.5)):\n",
    "        if i % x == 0:\n",
    "            print(f'{i} 는 소수가 아닙니다. {x} 는 {i} 의 인수입니다.')\n",
    "            break\n",
    "    else:\n",
    "        print(f'{i} 는 소수입니다.')\n"
   ]
  },
  {
   "cell_type": "markdown",
   "metadata": {},
   "source": [
    "### 최대공약수, 최소공배수 구하기\n",
    "\n",
    "> 두 수를 입력받아 두 수의 최대공약수와 최소공배수를 반환하는 함수, gcdlcm을 완성해 보세요.\n",
    "\n",
    "> 배열의 맨 앞에 최대공약수, 그다음 최소공배수를 넣어 반환하면 됩니다.\n",
    "\n",
    "> 예를 들어 두 수 3, 12의 최대공약수는 3, 최소공배수는 12이므로 gcdlcm(3, 12)는 [3, 12]를 반환해야 합니다.\n",
    "\n",
    "예시)\n",
    "\n",
    "```python\n",
    "gcdlcm(3, 12) #=> [3, 12]\n",
    "gcdlcm(1071, 1029) #=> [21, 52479]\n",
    "```"
   ]
  },
  {
   "cell_type": "code",
   "execution_count": 31,
   "metadata": {},
   "outputs": [],
   "source": [
    "# 여기에 코드를 작성하세요.\n",
    "\n",
    "def gcdlcm(a, b):\n",
    "    t= min(a, b)\n",
    "    gcd = 1    \n",
    "    for i in range(1,t+1):\n",
    "        if a%i and b%i:\n",
    "            continue\n",
    "        else:\n",
    "            gcd = i\n",
    "    lcm = a*b//gcd\n",
    "    \n",
    "    return [gcd, lcm]\n",
    "\n",
    "def gcdlcm2(a, b):\n",
    "    t = a * b\n",
    "    while b!=0:\n",
    "        a, b = b, a%b\n",
    "    gcd = a\n",
    "    lcm = t//gcd\n",
    "    \n",
    "    return [gcd, lcm]"
   ]
  },
  {
   "cell_type": "code",
   "execution_count": 33,
   "metadata": {},
   "outputs": [
    {
     "name": "stdout",
     "output_type": "stream",
     "text": [
      "[3, 12]\n",
      "[1029, 1071]\n",
      "[3, 12]\n",
      "[21, 52479]\n"
     ]
    }
   ],
   "source": [
    "print(gcdlcm(3, 12))\n",
    "print(gcdlcm(1071, 1029))\n",
    "print(gcdlcm2(3, 12))\n",
    "print(gcdlcm2(1071, 1029))\n",
    "\n",
    "# \"\"\"\n",
    "# [3, 12]\n",
    "# [21, 52479]\n",
    "# [3, 12.0]\n",
    "# [21, 52479.0]\n",
    "# \"\"\""
   ]
  },
  {
   "cell_type": "markdown",
   "metadata": {},
   "source": [
    "### 과일 개수 골라내기\n",
    "\n",
    "> 장바구니에 아래와 같은 과일이 들어있고 과일 판별 리스트가 있습니다. 현재 장바구니에는 과일이 몇 개이고 과일이 아닌 것은 몇 개인지 출력 하시오.\n",
    "\n",
    "출력예시) 과일은 23개이고, 11개는 과일이 아닙니다."
   ]
  },
  {
   "cell_type": "code",
   "execution_count": 32,
   "metadata": {},
   "outputs": [
    {
     "name": "stdout",
     "output_type": "stream",
     "text": [
      "과일은 23개이고, 11개는 과일이 아닙니다.\n"
     ]
    }
   ],
   "source": [
    "basket_items = {'apples': 4, 'oranges': 19, 'kites': 3, 'sandwiches': 8}\n",
    "\n",
    "fruits = ['apples', 'oranges', 'pears', 'peaches', 'grapes', 'bananas']\n",
    "\n",
    "# 아래에 코드를 작성하세요\n",
    "fruit_count = 0\n",
    "nonfruit_count = 0\n",
    "for key, value in basket_items.items():\n",
    "    if key in fruits:\n",
    "        fruit_count += value\n",
    "    else:\n",
    "        nonfruit_count += value\n",
    "\n",
    "print(f'과일은 {fruit_count}개이고, {nonfruit_count}개는 과일이 아닙니다.')"
   ]
  },
  {
   "cell_type": "markdown",
   "metadata": {},
   "source": [
    "### 절대값 함수 만들기\n",
    "\n",
    "#### `abs()`\n",
    "\n",
    "> 절대값은 숫자(int, float)가 들어오면 절대값을 반환하고, 복소수(complex)가 들어오면 그 크기를 반환합니다.\n",
    "> \n",
    "> `my_abs(x)`를 만들어보세요."
   ]
  },
  {
   "cell_type": "markdown",
   "metadata": {},
   "source": [
    "**공식문서**\n",
    "<center>\n",
    "    <img src=\"https://user-images.githubusercontent.com/52446416/61273106-b6ee5c00-a7e3-11e9-8ec2-a086b0bc584f.png\", alt=\"\">\n",
    "</center>"
   ]
  },
  {
   "cell_type": "markdown",
   "metadata": {},
   "source": [
    "**복소수 크기 구하는법**\n",
    "<center>\n",
    "    <img src=\"https://user-images.githubusercontent.com/52446416/61273105-b655c580-a7e3-11e9-9859-0a9ffdecdf7d.png\", alt=\"\">\n",
    "</center>"
   ]
  },
  {
   "cell_type": "code",
   "execution_count": 35,
   "metadata": {},
   "outputs": [
    {
     "name": "stdout",
     "output_type": "stream",
     "text": [
      "5.0 0.0 5\n"
     ]
    }
   ],
   "source": [
    "# 예제 입력 및 출력\n",
    "print(abs(3+4j), abs(-0.0), abs(-5))"
   ]
  },
  {
   "cell_type": "code",
   "execution_count": 36,
   "metadata": {},
   "outputs": [
    {
     "data": {
      "text/plain": [
       "0"
      ]
     },
     "execution_count": 36,
     "metadata": {},
     "output_type": "execute_result"
    }
   ],
   "source": [
    "abs(0)"
   ]
  },
  {
   "cell_type": "code",
   "execution_count": 37,
   "metadata": {},
   "outputs": [
    {
     "name": "stdout",
     "output_type": "stream",
     "text": [
      "5.0 0.0 5.0\n"
     ]
    }
   ],
   "source": [
    "# 아래에 코드를 작성해주세요.\n",
    "def my_abs(x):\n",
    "    return (x * x.conjugate()).real**0.5\n",
    "\n",
    "    \n",
    "# 예제 입력 및 출력\n",
    "print(my_abs(3+4j), my_abs(0.0), my_abs(-5))"
   ]
  },
  {
   "cell_type": "markdown",
   "metadata": {},
   "source": [
    "### 문자열 덧셈 하기\n",
    "#### 문자열 조작 및 반복/조건문 활용\n",
    "\n",
    "**문제 풀기 전에 어떻게 풀어야할지 생각부터 해봅시다!**\n",
    "\n",
    "> 사람은 덧셈을 할때 뒤에서부터 계산하고, 받아올림을 합니다.\n",
    "> \n",
    "> 문자열 2개를 받아 덧셈을 하여 숫자를 반환하는 함수 `my_sum(num1, num2)`을 만들어보세요.\n",
    "\n",
    "\n",
    "\n",
    "**절대로 `return int(num1)+int(num2)` 이렇게 풀지 맙시다!!**\n",
    "\n",
    "**재귀함수도 사용할 필요 없습니다.**"
   ]
  },
  {
   "cell_type": "code",
   "execution_count": 8,
   "metadata": {},
   "outputs": [],
   "source": [
    "def my_int_set(num):\n",
    "    e = '1'\n",
    "    ord_num = ord(num)\n",
    "    set_num = []\n",
    "    while ord_num != ord('0'):\n",
    "        set_num.append(e)\n",
    "        ord_num -= 1\n",
    "    return set_num\n",
    "\n",
    "def my_sum(num1, num2):\n",
    "    if len(num1) > len(num2):\n",
    "        l_n, s_n, l_num = len(num1), len(num2), num1\n",
    "    else:\n",
    "        l_n, s_n, l_num = len(num2), len(num1), num2\n",
    "    p = '0'\n",
    "    ans = \"\"\n",
    "    for i in range(1,l_n+1):\n",
    "        if i <= s_n:\n",
    "            set_a = my_int_set(num1[-i])\n",
    "            set_b = my_int_set(num2[-i])\n",
    "            set_p = my_int_set(p)\n",
    "            \n",
    "            a = len(set_a+set_b+set_p)\n",
    "            \n",
    "            if a>=10:\n",
    "                p = '1'\n",
    "                b = a - 10\n",
    "                ans = str(b) + ans\n",
    "            else:\n",
    "                p = '0'\n",
    "                b = a\n",
    "                ans = str(b) + ans\n",
    "        else:\n",
    "            set_a = my_int_set(l_num[-i])\n",
    "            set_p = my_int_set(p)\n",
    "            \n",
    "            a = len(set_a+set_p)\n",
    "            \n",
    "            if a>=10:\n",
    "                p = '1'\n",
    "                b = a - 10\n",
    "                ans = str(b) + ans\n",
    "            else:\n",
    "                p = '0'\n",
    "                b = a\n",
    "                ans = str(b) + ans\n",
    "    else:\n",
    "        if p == 1:\n",
    "            ans = '1' + ans\n",
    "    return ans\n",
    "\n",
    "def my_sum2(num1, num2):\n",
    "    if len(num1) > len(num2):\n",
    "        l_n, s_n, l_num = len(num1), len(num2), num1\n",
    "    else:\n",
    "        l_n, s_n, l_num = len(num2), len(num1), num2\n",
    "    p = 0\n",
    "    ans = \"\"\n",
    "    for i in range(1,l_n+1):\n",
    "        if i <= int(s_n):\n",
    "            a = int(num1[-i]) + int(num2[-i]) + p\n",
    "            if a>=10:\n",
    "                p = 1\n",
    "                b = a - 10\n",
    "                ans = str(b) + ans\n",
    "            else:\n",
    "                p = 0\n",
    "                b = a\n",
    "                ans = str(b) + ans\n",
    "        else:\n",
    "            a = int(l_num[-i]) + p\n",
    "            if a>=10:\n",
    "                p = 1\n",
    "                b = a - 10\n",
    "                ans = str(b) + ans\n",
    "            else:\n",
    "                p = 0\n",
    "                b = a\n",
    "                ans = str(b) + ans\n",
    "    else:\n",
    "        if p == 1:\n",
    "            ans = '1' + ans\n",
    "    return ans"
   ]
  },
  {
   "cell_type": "code",
   "execution_count": 9,
   "metadata": {},
   "outputs": [
    {
     "name": "stdout",
     "output_type": "stream",
     "text": [
      "5\n"
     ]
    }
   ],
   "source": [
    "a = 5\n",
    "set_a = []\n",
    "t = 1\n",
    "for l_a in range(a):\n",
    "    set_a.append(t)\n",
    "    \n",
    "print(len(set_a))\n"
   ]
  },
  {
   "cell_type": "code",
   "execution_count": 9,
   "metadata": {},
   "outputs": [
    {
     "name": "stdout",
     "output_type": "stream",
     "text": [
      "8\n",
      "200\n",
      "0000\n",
      "\n",
      "8\n",
      "200\n",
      "10000\n"
     ]
    }
   ],
   "source": [
    "print(my_sum('3', '5'))\n",
    "print(my_sum('123', '77'))\n",
    "print(my_sum('1', '9999'))\n",
    "\n",
    "print()\n",
    "\n",
    "print(my_sum2('3', '5'))\n",
    "print(my_sum2('123', '77'))\n",
    "print(my_sum2('1', '9999'))"
   ]
  },
  {
   "cell_type": "markdown",
   "metadata": {},
   "source": [
    "**비트 연산**\n",
    "\n",
    "1. AND연산(&)\n",
    "\n",
    "- 0b10101010 & 0b11000011\n",
    "\n",
    "- AND연산은 각 자릿수를 비교하여 둘다 1이면 1, 아니면 0\n",
    "\n",
    "---\n",
    "\n",
    "2. OR연산(|)\n",
    "\n",
    "0b10101010 | 0b11000011\n",
    "\n",
    "OR연산은 각 자릿수를 비교하여 둘 중 하나만 1이면 1\n",
    "\n",
    "---\n",
    "\n",
    "3. XOR연산(^)\n",
    "\n",
    "0b10101010 ^ 0b11000011\n",
    "\n",
    "XOR연산은 각 자릿수를 비교하여 다르면 1, 같으면 0\n",
    "\n",
    "---\n",
    "\n",
    "4. 쉬프트연산(<<, >>)\n",
    "\n",
    "0b10101010 << 2\n",
    "\n",
    "각 비트를 왼쪽으로 옮긴다.\n",
    "\n",
    "왼쪽 쉬프트 연산은 2를 곱하는 효과가 있다.\n",
    "\n",
    "(곱하기, 나누기 보다 쉬프트 연산이 빠르기 때문에 종종 사용됨)\n",
    "\n",
    "0b10101010 >> 2\n",
    "\n",
    "각 비트를 오른쪽으로 옮긴다. (오른쪽 부터 값이 버려짐)\n",
    "\n",
    "오른쪽 쉬프트 연산은 2로 나누는 효과가 있다."
   ]
  },
  {
   "cell_type": "code",
   "execution_count": 51,
   "metadata": {},
   "outputs": [
    {
     "name": "stdout",
     "output_type": "stream",
     "text": [
      "0b10000010\n",
      "0b11101011\n",
      "0b1101001\n",
      "0b1010101000\n",
      "0b101010\n"
     ]
    }
   ],
   "source": [
    "print(bin(0b10101010 & 0b11000011))\n",
    "print(bin(0b10101010 | 0b11000011))\n",
    "print(bin(0b10101010 ^ 0b11000011))\n",
    "print(bin(0b10101010 << 2))\n",
    "print(bin(0b10101010 >> 2))"
   ]
  },
  {
   "cell_type": "code",
   "execution_count": 49,
   "metadata": {},
   "outputs": [],
   "source": [
    "def addWithoutPlus(a, b):\n",
    "    while True:\n",
    "        bit_and = a&b\n",
    "        a = (a^b)\n",
    "        if bit_and == 0:\n",
    "            return a\n",
    "        else:\n",
    "            b = bit_and<<1\n",
    "            \n",
    "def addWithoutPlus2(a, b):\n",
    "    while b:\n",
    "        a,b = (a^b),(a&b)\n",
    "        b = b<<1\n",
    "    return a"
   ]
  },
  {
   "cell_type": "code",
   "execution_count": 50,
   "metadata": {},
   "outputs": [
    {
     "name": "stdout",
     "output_type": "stream",
     "text": [
      "1326\n",
      "1326\n"
     ]
    }
   ],
   "source": [
    "print(addWithoutPlus(1321, 5))\n",
    "print(addWithoutPlus2(1321, 5))"
   ]
  },
  {
   "cell_type": "code",
   "execution_count": 1,
   "metadata": {},
   "outputs": [],
   "source": [
    "import time\n",
    "base_num = list(range(10))\n",
    "num_sq = [a**2 for a in range(1,11)]\n",
    "\n",
    "def my_sqrt(x):\n",
    "    n = (len(x)-1)//2 \n",
    "    x = float(x)\n",
    "\n",
    "    for i in base_num[:-1]:\n",
    "        if num_sq[i] * 10**(2*n) <= x and x < num_sq[i+1] * 10**(2*n):\n",
    "            sp = (i+1) * 10**n\n",
    "            ep = (i+2) * 10**n\n",
    "            gap = ep - sp\n",
    "            break\n",
    "\n",
    "    while gap > 0.0000001:\n",
    "        # print(\"5\", end=\"\")\n",
    "        gap /= 2\n",
    "        mp = sp + gap\n",
    "        if x <= mp**2:\n",
    "            ep = mp\n",
    "        else:\n",
    "            sp = mp\n",
    "\n",
    "    return (f'{sp:0.6F}')\n",
    "\n",
    "def my_sqrt2(x):\n",
    "    x = float(x)\n",
    "        \n",
    "    sp = 0\n",
    "    ep = x\n",
    "    gap2 = ep - sp\n",
    "    mp = 0\n",
    "\n",
    "    while gap2 > 0.0000001:\n",
    "        # print(\"5\", end=\"\")\n",
    "        gap2 /= 2\n",
    "        mp = sp + gap2\n",
    "        if x <= mp**2:\n",
    "            ep = mp\n",
    "        else:\n",
    "            sp = mp\n",
    "\n",
    "    return (f'{sp:0.6F}')"
   ]
  },
  {
   "cell_type": "code",
   "execution_count": 3,
   "metadata": {},
   "outputs": [
    {
     "name": "stdout",
     "output_type": "stream",
     "text": [
      "1.414214\n",
      "1.414214\n",
      "394.478136\n",
      "394.478136\n",
      "290960455382615.437500\n",
      "290960455382615.437500\n",
      "80898488642.535614\n",
      "80898488642.535614\n",
      "6.280227899551392\n",
      "1\n",
      "6.851668119430542\n",
      "2\n"
     ]
    }
   ],
   "source": [
    "list_num = ['2', '155613','84657986596458964532645138645','6544565464646464646646']\n",
    "\n",
    "for num in list_num:\n",
    "    print(my_sqrt(num))\n",
    "    print(my_sqrt2(num))\n",
    "\n",
    "start = time.time()\n",
    "\n",
    "for check_time in range(100000):\n",
    "    for num in list_num:\n",
    "        my_sqrt(num)\n",
    "\n",
    "print(time.time()-start)\n",
    "start = time.time()\n",
    "print(1)\n",
    "for check_time in range(100000):\n",
    "    for num in list_num:\n",
    "        my_sqrt2(num)\n",
    "        \n",
    "print(time.time()-start)\n",
    "print(2)"
   ]
  }
 ],
 "metadata": {
  "kernelspec": {
   "display_name": "Python 3",
   "language": "python",
   "name": "python3"
  },
  "language_info": {
   "codemirror_mode": {
    "name": "ipython",
    "version": 3
   },
   "file_extension": ".py",
   "mimetype": "text/x-python",
   "name": "python",
   "nbconvert_exporter": "python",
   "pygments_lexer": "ipython3",
   "version": "3.7.3"
  },
  "latex_envs": {
   "LaTeX_envs_menu_present": true,
   "autoclose": false,
   "autocomplete": true,
   "bibliofile": "biblio.bib",
   "cite_by": "apalike",
   "current_citInitial": 1,
   "eqLabelWithNumbers": true,
   "eqNumInitial": 1,
   "hotkeys": {
    "equation": "Ctrl-E",
    "itemize": "Ctrl-I"
   },
   "labels_anchors": false,
   "latex_user_defs": false,
   "report_style_numbering": false,
   "user_envs_cfg": false
  },
  "toc": {
   "base_numbering": 1,
   "nav_menu": {},
   "number_sections": true,
   "sideBar": true,
   "skip_h1_title": false,
   "title_cell": "Table of Contents",
   "title_sidebar": "Contents",
   "toc_cell": false,
   "toc_position": {},
   "toc_section_display": true,
   "toc_window_display": false
  }
 },
 "nbformat": 4,
 "nbformat_minor": 2
}
