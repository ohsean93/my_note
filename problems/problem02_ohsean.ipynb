{
 "cells": [
  {
   "cell_type": "markdown",
   "metadata": {},
   "source": [
    "# 모든코인 상승장? 하락장?\n",
    "> 최고가와 최저가의 차이를 변동폭으로 정의할 때 (시가 + 변동폭)이 최고가 보다 높을 경우 \"상승장\", 그렇지 않은 경우 \"하락장\" 문자열을 출력하라.\n",
    "\n",
    "\n",
    "|Key Name|Description|\n",
    "|------|---|\n",
    "|opeing_price|최근 24시간 내 시작 거래금액|\n",
    "|closing_price|최근 24시간 내 마지막 거래금액|\n",
    "|min_price|최근 24시간 내 최저 거래금액|\n",
    "|max_price|최근 24시간 내 최고 거래금액|"
   ]
  },
  {
   "cell_type": "code",
   "execution_count": 3,
   "metadata": {},
   "outputs": [
    {
     "name": "stdout",
     "output_type": "stream",
     "text": [
      "BTC: 상승장 ETH: 상승장 DASH: 상승장 LTC: 상승장 ETC: 상승장 XRP: 상승장 BCH: 상승장 XMR: 상승장 ZEC: 상승장 QTUM: 상승장 BTG: 상승장 EOS: 상승장 ICX: 상승장 VET: 상승장 TRX: 상승장 ELF: 상승장 MITH: 상승장 MCO: 상승장 OMG: 상승장 KNC: 상승장 GNT: 상승장 ZIL: 상승장 ETHOS: 상승장 PAY: 상승장 WAX: 상승장 POWR: 상승장 LRC: 상승장 GTO: 상승장 STEEM: 상승장 STRAT: 상승장 ZRX: 상승장 REP: 상승장 AE: 상승장 XEM: 상승장 SNT: 상승장 ADA: 상승장 PPT: 상승장 CTXC: 상승장 CMT: 상승장 THETA: 상승장 WTC: 상승장 ITC: 상승장 TRUE: 상승장 ABT: 상승장 RNT: 상승장 PLY: 상승장 WAVES: 상승장 LINK: 상승장 ENJ: 상승장 PST: 상승장 SALT: 상승장 RDN: 상승장 LOOM: 상승장 PIVX: 상승장 INS: 상승장 BCD: 상승장 BZNT: 상승장 XLM: 상승장 OCN: 상승장 BSV: 상승장 TMTG: 상승장 BAT: 상승장 WET: 상승장 XVG: 상승장 IOST: 상승장 POLY: 상승장 HC: 상승장 ROM: 상승장 AMO: 상승장 ETZ: 상승장 ARN: 상승장 APIS: 상승장 MTL: 상승장 DACC: 상승장 DAC: 상승장 BHP: 상승장 BTT: 상승장 HDAC: 상승장 NPXS: 상승장 AUTO: 상승장 GXC: 상승장 ORBS: 상승장 VALOR: 상승장 CON: 상승장 ANKR: 상승장 MIX: 상승장 HYC: 상승장 LBA: 상승장 "
     ]
    }
   ],
   "source": [
    "import requests\n",
    "from pprint import pprint\n",
    "\n",
    "url = \"https://api.bithumb.com/public/ticker/all\"\n",
    "data = requests.get(url).json()['data']\n",
    "# print(data.keys())\n",
    "# pprint(data['ABT'])\n",
    "\n",
    "def up_down(bit_name):\n",
    "    max_price = float(data.get(bit_name).get('max_price'))\n",
    "    min_price = float(data.get(bit_name).get('min_price'))\n",
    "    opening_price = float(data.get(bit_name).get('opening_price'))\n",
    "    \n",
    "    cap_price = max_price - min_price\n",
    "    check_price = opening_price + cap_price\n",
    "    if check_price > max_price:\n",
    "        return '상승장'\n",
    "    else:\n",
    "        return '하락장'\n",
    "    \n",
    "for bit_name in data.keys():\n",
    "    if type(data[bit_name]) == type(dict()):\n",
    "        result = up_down(bit_name)\n",
    "        print(f'{bit_name}: {result}', end = \" \")\n",
    "    else:\n",
    "        continue\n",
    "    \n",
    "        \n"
   ]
  },
  {
   "cell_type": "markdown",
   "metadata": {},
   "source": [
    "# 평균점수\n",
    "> 다음 딕셔너리에서 평균 점수를 출력하라\n"
   ]
  },
  {
   "cell_type": "code",
   "execution_count": 15,
   "metadata": {},
   "outputs": [
    {
     "data": {
      "text/plain": [
       "83.25"
      ]
     },
     "execution_count": 15,
     "metadata": {},
     "output_type": "execute_result"
    }
   ],
   "source": [
    "student = {'python':80, 'algorithm':78, 'django':95, 'flask':80}\n",
    "\n",
    "def my_mean(**kwargs):\n",
    "    return sum(kwargs.values())/len(kwargs)\n",
    "\n",
    "my_mean(**student)"
   ]
  },
  {
   "cell_type": "markdown",
   "metadata": {},
   "source": [
    "# 혈액형\n",
    "> 학생들의 혈액형(A,B,O,AB)에 대한 데이터가 리스트에 들어있다. 각 혈액형이 몇명인지 딕셔너리를 만들어 출력하라"
   ]
  },
  {
   "cell_type": "code",
   "execution_count": 20,
   "metadata": {},
   "outputs": [
    {
     "name": "stdout",
     "output_type": "stream",
     "text": [
      "{'A': 5, 'B': 2, 'O': 4, 'AB': 3}\n"
     ]
    }
   ],
   "source": [
    "blood = ['A','A','B','O','A','B','A','AB','AB','O','A','O','AB','O']\n",
    "\n",
    "def count_list_value(list1):\n",
    "    ans = {}\n",
    "    for i in list1:\n",
    "        if ans.get(i) == None:\n",
    "            ans[i] = 0\n",
    "        ans[i] += 1\n",
    "    return ans\n",
    "\n",
    "        \n",
    "print(count_list_value(blood))"
   ]
  },
  {
   "cell_type": "markdown",
   "metadata": {},
   "source": [
    "# UBD\n",
    "> movies는 영화제목이 key로 누적관객수가 value인 딕셔너리이다. \n",
    ">\n",
    "> 자전차왕 엄복동의 누적관객수는 172212명이고 172212명을 1UBD라고 할때 80UBD를 넘지 못하는 영화를 출력하라."
   ]
  },
  {
   "cell_type": "code",
   "execution_count": 4,
   "metadata": {},
   "outputs": [
    {
     "name": "stdout",
     "output_type": "stream",
     "text": [
      "7번방의선물\n",
      "괴물\n",
      "도둑들\n",
      "베테랑\n",
      "아바타\n"
     ]
    }
   ],
   "source": [
    "movies = {\n",
    "    \"7번방의선물\":12811206,\n",
    "    \"괴물\":13019740,\n",
    "    \"국제시장\":14257115,\n",
    "    \"극한직업\":16261018,\n",
    "    \"도둑들\":12983330,\n",
    "    \"명량\":17613682,\n",
    "    \"베테랑\":13414009,\n",
    "    \"신과함께-죄와벌\":14410754,\n",
    "    \"아바타\":13624328,\n",
    "    \"어벤져스:엔드게임\":13901423,\n",
    "}\n",
    "\n",
    "def change_UBD(num):\n",
    "    num = int(num)\n",
    "    return f'{(num/172212):0.02}'\n",
    "\n",
    "def check_80UBD(movie,UBD_num):\n",
    "    if float(UBD_num) < 80:\n",
    "        print(movie)\n",
    "        \n",
    "for key, value in movies.items():\n",
    "    check_80UBD(key,change_UBD(value))"
   ]
  }
 ],
 "metadata": {
  "kernelspec": {
   "display_name": "Python 3",
   "language": "python",
   "name": "python3"
  },
  "language_info": {
   "codemirror_mode": {
    "name": "ipython",
    "version": 3
   },
   "file_extension": ".py",
   "mimetype": "text/x-python",
   "name": "python",
   "nbconvert_exporter": "python",
   "pygments_lexer": "ipython3",
   "version": "3.7.3"
  }
 },
 "nbformat": 4,
 "nbformat_minor": 2
}
