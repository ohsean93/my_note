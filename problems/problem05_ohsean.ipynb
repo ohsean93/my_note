{
 "cells": [
  {
   "cell_type": "markdown",
   "metadata": {},
   "source": [
    "# 2진수\n",
    "\n",
    "> 사용자의 입력을 받아 2진수 인지 확인해주는 코드를 작성하라.\n",
    ">\n",
    "> 만약 숫자가 아닌 입력값이 들어오면 \"숫자가 아닙니다\"를 출력하라."
   ]
  },
  {
   "cell_type": "code",
   "execution_count": 77,
   "metadata": {},
   "outputs": [
    {
     "name": "stdout",
     "output_type": "stream",
     "text": [
      "111\n"
     ]
    }
   ],
   "source": [
    "# 여기에 코드를 작성하시오.\n",
    "num = input()\n"
   ]
  },
  {
   "cell_type": "code",
   "execution_count": 18,
   "metadata": {},
   "outputs": [
    {
     "name": "stdout",
     "output_type": "stream",
     "text": [
      "32154132\n",
      "이진수가 아닙니다.\n"
     ]
    }
   ],
   "source": [
    "# set을 이용한 풀이\n",
    "num = list(str(input()))\n",
    "\n",
    "if set(num).issubset(set(['0','1'])):\n",
    "    print('이진수입니다.')\n",
    "else:\n",
    "    if set(num).issubset(set(list('0123456789'))):\n",
    "        print('이진수가 아닙니다.')\n",
    "    else:\n",
    "        print('숫자가 아닙니다.')"
   ]
  },
  {
   "cell_type": "code",
   "execution_count": null,
   "metadata": {},
   "outputs": [],
   "source": [
    "# string 반복을 이용한 풀이\n",
    "num = str(input())\n",
    "\n",
    "for i in num:\n",
    "    if i in ['0','1']:\n",
    "        continue\n",
    "    else:\n",
    "        for j in num:\n",
    "            if j.isdigit():\n",
    "                continue\n",
    "            else:\n",
    "                print('숫자가 아닙니다.')\n",
    "                break\n",
    "        else:\n",
    "            print('이진수가 아닙니다.')\n",
    "        break\n",
    "else:\n",
    "    print('이진수입니다.')"
   ]
  },
  {
   "cell_type": "markdown",
   "metadata": {},
   "source": [
    "# 불쌍한 달팽이\n",
    "\n",
    ">달팽이는 낮 시간 동안에 기둥을 올라갑니다. 하지만 밤에는 잠을 자면서 어느 정도의 거리만큼미끄러집니다. (낮 시간 동안 올라간 거리보다는 적게 미끄러집니다) 달팽이가 기둥의 꼭대기에 도달하는 날까지 걸리는 시간을 계산하면 됩니다.\n",
    "\n",
    "> 함수에 들어가야 하는 3개의 인자는 다음과 같습니다.\n",
    "- 기둥의 높이(미터)\n",
    "- 낮 시간 동안 달팽이가 올라가는 거리(미터)\n",
    "- 달팽이가 야간에 잠을 자는 동안 미끄러지는 거리(미터)\n",
    "\n",
    "```python\n",
    "snail(100, 5, 2)\n",
    "# => 33\n",
    "```"
   ]
  },
  {
   "cell_type": "code",
   "execution_count": null,
   "metadata": {},
   "outputs": [],
   "source": [
    "# 여기에 코드를 작성하세요"
   ]
  },
  {
   "cell_type": "code",
   "execution_count": 78,
   "metadata": {},
   "outputs": [],
   "source": [
    "import math\n",
    "\n",
    "def snail(height, day, night):\n",
    "    return math.ceil((height-night)/(day-night)) if day < height else 1"
   ]
  },
  {
   "cell_type": "code",
   "execution_count": 79,
   "metadata": {},
   "outputs": [
    {
     "name": "stdout",
     "output_type": "stream",
     "text": [
      "33\n"
     ]
    }
   ],
   "source": [
    "# 해당 코드를 통해 올바른 결과가 나오는지 확인하세요.\n",
    "print(snail(100, 5, 2))"
   ]
  },
  {
   "cell_type": "markdown",
   "metadata": {},
   "source": [
    "# 무엇이 중복일까\n",
    "\n",
    "> 다음 리스트에서 중복되는 요소만 뽑아서 새로운 리스트에 옮기시오. \n",
    "\n",
    "```python\n",
    "# 입력)\n",
    "duplicated(['a', 'b', 'c', 'b', 'd', 'm', 'n', 'n', 'b'])\n",
    "\n",
    "# 출력)\n",
    "['b', 'n']\n",
    "```"
   ]
  },
  {
   "cell_type": "code",
   "execution_count": null,
   "metadata": {},
   "outputs": [],
   "source": [
    "# 여기에 코드를 작성하시오."
   ]
  },
  {
   "cell_type": "code",
   "execution_count": 59,
   "metadata": {},
   "outputs": [],
   "source": [
    "# 1\n",
    "def duplicated(words):\n",
    "    ans = words\n",
    "    a = set(words)\n",
    "    while len(a) != 0:\n",
    "        ans.remove(a.pop())\n",
    "    return sorted(list(set(ans)))\n",
    "    "
   ]
  },
  {
   "cell_type": "code",
   "execution_count": 60,
   "metadata": {},
   "outputs": [
    {
     "data": {
      "text/plain": [
       "['b', 'n']"
      ]
     },
     "execution_count": 60,
     "metadata": {},
     "output_type": "execute_result"
    }
   ],
   "source": [
    "# 해당 코드를 통해 올바른 결과가 나오는지 확인하세요.\n",
    "a = ['a', 'b', 'c', 'b', 'd', 'm', 'n', 'n', 'b']\n",
    "duplicated(a)"
   ]
  },
  {
   "cell_type": "markdown",
   "metadata": {},
   "source": [
    "# 편-안한 단어\n",
    "\n",
    "> (QWERTY 키보드를 사용하여 타이핑을 한다고 가정할 때) '편안한 단어'는 타이핑 할 때 **손을 번갈아 칠 수 있는 단어**를 말합니다.\n",
    ">\n",
    "> 단어를 인자로 받아 그것이 '편안한 단어'인지 여부를 True/False로 반환하는 함수를 만드세요.(모든 단어는 a ~ z까지 오름차순으로 구성된 문자열입니다.)\n",
    "\n",
    "> 문자 목록\n",
    "- 왼손: q, w, e, r, t, a, s, s, d, f, g, z, x, c, v, b\n",
    "- 오른손: y, u, i, o, p, h, j, k, l, n, m"
   ]
  },
  {
   "cell_type": "code",
   "execution_count": null,
   "metadata": {},
   "outputs": [],
   "source": [
    "# 여기에 코드를 작성하세요."
   ]
  },
  {
   "cell_type": "code",
   "execution_count": 80,
   "metadata": {},
   "outputs": [],
   "source": [
    "def comfortable_word(words):\n",
    "    l_hand = 'qwertasdfgzxcvb'\n",
    "    r_hand = 'yuiophjklnm'\n",
    "    \n",
    "    for i in range(len(words)-1):\n",
    "        if words[i] in l_hand:\n",
    "            if words[i+1] in l_hand:\n",
    "                return False\n",
    "        else:\n",
    "            if words[i+1] in r_hand:\n",
    "                return False\n",
    "    return True\n",
    "            "
   ]
  },
  {
   "cell_type": "code",
   "execution_count": 45,
   "metadata": {},
   "outputs": [
    {
     "name": "stdout",
     "output_type": "stream",
     "text": [
      "True\n",
      "False\n"
     ]
    }
   ],
   "source": [
    "# 해당 코드를 통해 올바른 결과가 나오는지 확인하세요.\n",
    "print(comfortable_word('qywu'))\n",
    "print(comfortable_word('apple'))"
   ]
  },
  {
   "cell_type": "markdown",
   "metadata": {},
   "source": [
    "# 숫자패턴\n",
    "\n",
    ">원하는 행까지 아래의 패턴을 생성하는 함수를 작성하세요. 만약 인자가 0이나 음의 정수인 경우 빈 문자열('')로 반환하세요.\n",
    "> \n",
    "> 짝수가 인수로 전달되면 패턴은 통과된 짝수보다 작은 최대 홀수까지 계속되어야 합니다.\n",
    "\n",
    "```python\n",
    "# 예시 \n",
    "print(pattern(9)):\n",
    "\n",
    "1\n",
    "333\n",
    "55555\n",
    "7777777\n",
    "999999999\n",
    "\n",
    "print(pattern(6))\n",
    "1\n",
    "333\n",
    "55555\n",
    "```\n",
    "**유의!**\n",
    "패턴에 공백은 없습니다."
   ]
  },
  {
   "cell_type": "code",
   "execution_count": null,
   "metadata": {},
   "outputs": [],
   "source": [
    "# 여기에 코드를 작성하세요"
   ]
  },
  {
   "cell_type": "code",
   "execution_count": 89,
   "metadata": {},
   "outputs": [],
   "source": [
    "def pattern(n):\n",
    "    ans =''\n",
    "    if n > 0:\n",
    "        for i in range(1,n+1,2):\n",
    "            ans += (f'{str(i)*i}\\n')\n",
    "    return ans[:-1]"
   ]
  },
  {
   "cell_type": "code",
   "execution_count": 90,
   "metadata": {
    "scrolled": true
   },
   "outputs": [
    {
     "name": "stdout",
     "output_type": "stream",
     "text": [
      "1\n",
      "333\n",
      "55555\n",
      "7777777\n",
      "999999999\n",
      "1\n",
      "333\n",
      "55555\n"
     ]
    }
   ],
   "source": [
    "# 해당 코드를 통해 올바른 결과가 나오는지 확인하세요.\n",
    "print(pattern(9))\n",
    "print(pattern(6))"
   ]
  }
 ],
 "metadata": {
  "kernelspec": {
   "display_name": "Python 3",
   "language": "python",
   "name": "python3"
  },
  "language_info": {
   "codemirror_mode": {
    "name": "ipython",
    "version": 3
   },
   "file_extension": ".py",
   "mimetype": "text/x-python",
   "name": "python",
   "nbconvert_exporter": "python",
   "pygments_lexer": "ipython3",
   "version": "3.7.3"
  }
 },
 "nbformat": 4,
 "nbformat_minor": 2
}
