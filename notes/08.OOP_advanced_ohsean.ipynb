{
 "cells": [
  {
   "cell_type": "markdown",
   "metadata": {},
   "source": [
    "# OOP advanced"
   ]
  },
  {
   "cell_type": "markdown",
   "metadata": {},
   "source": [
    "## 클래스 변수 / 인스턴스 변수\n",
    "\n",
    "### 클래스 변수\n",
    "* 클래스의 속성입니다.\n",
    "* 클래스 선언 블록 최상단에 위치합니다.\n",
    "* `Class.class_variable` 과 같이 접근/할당합니다.\n",
    "    ```python\n",
    "    class TestClass:\n",
    "        class_variable = '클래스변수'\n",
    "        ...\n",
    "        \n",
    "    TestClass.class_variable  # '클래스변수'\n",
    "    TestClass.class_variable = 'class variable'\n",
    "    TestClass.class_variable  # 'class variable'\n",
    "    \n",
    "    tc = TestClass()\n",
    "    tc.class_variable  # 인스턴스 => 클래스 => 전역 순서로 네임스페이스를 탐색하기 때문에, 접근하게 됩니다.\n",
    "    ```\n",
    "    \n",
    "### 인스턴스 변수\n",
    "* 인스턴스의 속성입니다.\n",
    "* 메서드 정의에서 `self.instance_variable` 로 접근/할당합니다.\n",
    "* 인스턴스가 생성된 이후 `instance.instance_variable` 로 접근/할당합니다.\n",
    "    ```python\n",
    "    class TestClass:\n",
    "        def __init__(self, arg1, arg2):\n",
    "            self.instance_var1 = arg1\n",
    "            self.instance_var2 = arg2\n",
    "        \n",
    "        def status(self):\n",
    "            return self.instance_var1, self.instance_var2   \n",
    "        \n",
    "    tc = TestClass(1, 2)\n",
    "    tc.instance_var1  # 1\n",
    "    tc.instance_var2  # 2\n",
    "    tc.status()  # (1, 2)\n",
    "    ```"
   ]
  },
  {
   "cell_type": "code",
   "execution_count": null,
   "metadata": {},
   "outputs": [],
   "source": [
    "# 확인해 봅시다."
   ]
  },
  {
   "cell_type": "code",
   "execution_count": null,
   "metadata": {},
   "outputs": [],
   "source": [
    "class TestClass:\n",
    "    class_variable = '클래스변수'\n",
    "\n",
    "\n",
    "TestClass.class_variable  # '클래스변수'\n",
    "TestClass.class_variable = 'class variable'\n",
    "TestClass.class_variable  # 'class variable'\n"
   ]
  },
  {
   "cell_type": "code",
   "execution_count": null,
   "metadata": {},
   "outputs": [],
   "source": [
    "# 클래스 변수에 접근/재할당해 봅시다."
   ]
  },
  {
   "cell_type": "code",
   "execution_count": null,
   "metadata": {},
   "outputs": [],
   "source": []
  },
  {
   "cell_type": "code",
   "execution_count": null,
   "metadata": {},
   "outputs": [],
   "source": [
    "# 인스턴스를 생성하고 확인해 봅시다."
   ]
  },
  {
   "cell_type": "code",
   "execution_count": null,
   "metadata": {},
   "outputs": [],
   "source": [
    "tc = TestClass()\n",
    "tc.class_variable"
   ]
  },
  {
   "cell_type": "code",
   "execution_count": null,
   "metadata": {},
   "outputs": [],
   "source": [
    "# 인스턴스 변수를 재할당해 봅시다."
   ]
  },
  {
   "cell_type": "code",
   "execution_count": null,
   "metadata": {},
   "outputs": [],
   "source": [
    "tc.class_variable = '1'\n",
    "tc.class_variable \n"
   ]
  },
  {
   "cell_type": "markdown",
   "metadata": {},
   "source": [
    "## 인스턴스 메서드 / 클래스 메서드 / 스태틱(정적) 메서드 \n",
    "\n",
    "### 인스턴스 메서드\n",
    "* 인스턴스가 사용할 메서드 입니다.\n",
    "* **정의 위에 어떠한 데코레이터도 없으면, 자동으로 인스턴스 메서드가 됩니다.**\n",
    "* **첫 번째 인자로 `self` 를 받도록 정의합니다. 이 때, 자동으로 인스턴스 객체가 `self` 가 됩니다.**\n",
    "    ```python\n",
    "    class MyClass:\n",
    "        def instance_method_name(self, arg1, arg2, ...):\n",
    "            ...\n",
    "    \n",
    "    my_instance = MyClass()\n",
    "    my_instance.instance_method_name(.., ..)  # 자동으로 첫 번째 인자로 인스턴스(my_instance)가 들어갑니다.\n",
    "    ```\n",
    "    \n",
    "### 클래스 메서드\n",
    "* 클래스가 사용할 메서드 입니다.\n",
    "* **정의 위에 `@classmethod` 데코레이터를 사용합니다.**\n",
    "* **첫 번째 인자로 `cls` 를 받도록 정의합니다. 이 때, 자동으로 클래스 객체가 `cls` 가 됩니다.**\n",
    "    ```python\n",
    "    class MyClass:\n",
    "        @classmethod\n",
    "        def class_method_name(cls, arg1, arg2, ...):\n",
    "            ...\n",
    "            \n",
    "    MyClass.class_method_name(.., ..)  # 자동으로 첫 번째 인자로 클래스(MyClass)가 들어갑니다.\n",
    "    ```\n",
    "\n",
    "### 스태틱(정적) 메서드\n",
    "* 클래스가 사용할 메서드 입니다.\n",
    "* **정의 위에 `@staticmethod` 데코레이터를 사용합니다.**\n",
    "* **인자 정의는 자유롭게 합니다. 어떠한 인자도 자동으로 넘어가지 않습니다.**\n",
    "    ```python\n",
    "    class MyClass:\n",
    "        @staticmethod\n",
    "        def static_method_name(arg1, arg2, ...):\n",
    "            ...\n",
    "    \n",
    "    MyClass.static_method_name(.., ..)  # 아무일도 자동으로 일어나지 않습니다.\n",
    "    ```"
   ]
  },
  {
   "cell_type": "code",
   "execution_count": null,
   "metadata": {},
   "outputs": [],
   "source": [
    "class MyClass:\n",
    "    @classmethod\n",
    "    def class_method_name(cls):\n",
    "        return f'클래스 매서드{cls}'\n",
    "    \n",
    "    @classmethod\n",
    "    def class_method(cls):\n",
    "        return cls\n",
    "    \n",
    "    @staticmethod\n",
    "    def static_method_name():\n",
    "        return '스테틱 매서드'\n",
    "    \n",
    "    def instance_method_name(self):\n",
    "        return '인스턴스 매서드'\n",
    "    \n",
    "a = MyClass()\n",
    "print(a.class_method_name())\n",
    "print(MyClass.class_method_name())\n",
    "print(a.instance_method_name())\n",
    "print(a.class_method()==MyClass)\n",
    "print(MyClass.static_method_name())\n",
    "print(a.static_method_name())\n"
   ]
  },
  {
   "cell_type": "code",
   "execution_count": null,
   "metadata": {},
   "outputs": [],
   "source": [
    "# 인스턴스 입장에서 확인해 봅시다."
   ]
  },
  {
   "cell_type": "code",
   "execution_count": null,
   "metadata": {},
   "outputs": [],
   "source": [
    "# 인스턴스는 인스턴스 메서드에 접근 가능합니다."
   ]
  },
  {
   "cell_type": "code",
   "execution_count": null,
   "metadata": {},
   "outputs": [],
   "source": [
    "# 인스턴스는 클래스 메서드에 접근 가능합니다."
   ]
  },
  {
   "cell_type": "code",
   "execution_count": null,
   "metadata": {},
   "outputs": [],
   "source": [
    "# 인스턴스는 스태틱 메서드에 접근 가능합니다."
   ]
  },
  {
   "cell_type": "markdown",
   "metadata": {},
   "source": [
    "#### 정리\n",
    "- 인스턴스는, 3가지 메서드 모두에 접근할 수 있습니다.\n",
    "- 하지만 인스턴스에서 클래스메서드와 스태틱메서드는 호출하지 않아야 합니다. (가능하다 != 사용한다) \n",
    "- 인스턴스가 할 행동은 모두 인스턴스 메서드로 한정 지어서 설계합니다."
   ]
  },
  {
   "cell_type": "markdown",
   "metadata": {},
   "source": [
    "---"
   ]
  },
  {
   "cell_type": "code",
   "execution_count": null,
   "metadata": {},
   "outputs": [],
   "source": [
    "# 클래스 입장에서 확인해 봅시다."
   ]
  },
  {
   "cell_type": "code",
   "execution_count": null,
   "metadata": {},
   "outputs": [],
   "source": []
  },
  {
   "cell_type": "code",
   "execution_count": null,
   "metadata": {},
   "outputs": [],
   "source": []
  },
  {
   "cell_type": "code",
   "execution_count": null,
   "metadata": {},
   "outputs": [],
   "source": []
  },
  {
   "cell_type": "markdown",
   "metadata": {},
   "source": [
    "#### 정리\n",
    "- 클래스는, 3가지 메서드 모두에 접근할 수 있습니다.\n",
    "- 하지만 클래스에서 인스턴스메서드는 호출하지 않습니다. (가능하다 != 사용한다)\n",
    "- 클래스가 할 행동은 다음 원칙에 따라 설계합니다.\n",
    "    - 클래스 자체(`cls`)와 그 속성에 접근할 필요가 있다면 클래스메서드로 정의합니다.\n",
    "    - 클래스와 클래스 속성에 접근할 필요가 없다면 스태틱메서드로 정의합니다."
   ]
  },
  {
   "cell_type": "markdown",
   "metadata": {},
   "source": [
    "---"
   ]
  },
  {
   "cell_type": "code",
   "execution_count": null,
   "metadata": {
    "scrolled": true
   },
   "outputs": [],
   "source": [
    "# Person 클래스가 인사할 수 있는지 확인해보겠습니다."
   ]
  },
  {
   "cell_type": "code",
   "execution_count": null,
   "metadata": {
    "scrolled": true
   },
   "outputs": [],
   "source": [
    "    "
   ]
  },
  {
   "cell_type": "markdown",
   "metadata": {},
   "source": [
    "### 실습 : Puppy class\n",
    "> 1. 클래스 변수 num_of_dogs 통해 개가 생성될 때마다 증가시키도록 하겠습니다. \n",
    "> 2. 개들은 각자의 이름과 나이를 가지고 있습니다. \n",
    "> 3. 그리고 bark() 메서드를 통해 짖을 수 있습니다. "
   ]
  },
  {
   "cell_type": "code",
   "execution_count": 5,
   "metadata": {},
   "outputs": [],
   "source": [
    "class Puppy:\n",
    "    num_of_dogs = 0\n",
    "    \n",
    "    def __init__(self,name = 'unknown',age = 0):\n",
    "        self.name = name\n",
    "        self.age = age\n",
    "        Puppy.num_of_dogs +=1\n",
    "    def bark(self):\n",
    "        print('왈')"
   ]
  },
  {
   "cell_type": "code",
   "execution_count": 13,
   "metadata": {},
   "outputs": [
    {
     "name": "stdout",
     "output_type": "stream",
     "text": [
      "왈\n"
     ]
    }
   ],
   "source": [
    "# 각각 이름과 나이가 다른 인스턴스를 3개 만들어봅시다.\n",
    "a = Puppy('a',1)\n",
    "a.bark()"
   ]
  },
  {
   "cell_type": "code",
   "execution_count": 14,
   "metadata": {},
   "outputs": [
    {
     "data": {
      "text/plain": [
       "8"
      ]
     },
     "execution_count": 14,
     "metadata": {},
     "output_type": "execute_result"
    }
   ],
   "source": [
    "Puppy.num_of_dogs"
   ]
  },
  {
   "cell_type": "markdown",
   "metadata": {},
   "source": [
    "* 클래스메서드는 다음과 같이 정의됩니다.\n",
    "\n",
    "```python\n",
    "\n",
    "@classmethod\n",
    "def methodname(cls):\n",
    "    codeblock\n",
    "```"
   ]
  },
  {
   "cell_type": "code",
   "execution_count": null,
   "metadata": {},
   "outputs": [],
   "source": [
    "# Doggy 클래스의 속성에 접근하는 클래스메서드를 생성해 보겠습니다."
   ]
  },
  {
   "cell_type": "code",
   "execution_count": null,
   "metadata": {},
   "outputs": [],
   "source": []
  },
  {
   "cell_type": "code",
   "execution_count": null,
   "metadata": {},
   "outputs": [],
   "source": [
    "# Dog 3 마리를 만들어보고,"
   ]
  },
  {
   "cell_type": "code",
   "execution_count": null,
   "metadata": {},
   "outputs": [],
   "source": []
  },
  {
   "cell_type": "code",
   "execution_count": null,
   "metadata": {},
   "outputs": [],
   "source": [
    "# 함수를 호출해봅시다."
   ]
  },
  {
   "cell_type": "code",
   "execution_count": null,
   "metadata": {},
   "outputs": [],
   "source": []
  },
  {
   "cell_type": "code",
   "execution_count": null,
   "metadata": {},
   "outputs": [],
   "source": []
  },
  {
   "cell_type": "markdown",
   "metadata": {},
   "source": [
    "* 스태틱메서드는 다음과 같이 정의됩니다.\n",
    "\n",
    "```python\n",
    "\n",
    "@staticmethod\n",
    "def methodname():\n",
    "    codeblock\n",
    "```"
   ]
  },
  {
   "cell_type": "code",
   "execution_count": null,
   "metadata": {},
   "outputs": [],
   "source": [
    "# Dog 에 어떠한 속성에도 접근하지 않는 스태틱메서드를 만들어보겠습니다."
   ]
  },
  {
   "cell_type": "code",
   "execution_count": null,
   "metadata": {},
   "outputs": [],
   "source": []
  },
  {
   "cell_type": "code",
   "execution_count": null,
   "metadata": {},
   "outputs": [],
   "source": [
    "# Dog 3 마리를 만들어보고,"
   ]
  },
  {
   "cell_type": "code",
   "execution_count": null,
   "metadata": {},
   "outputs": [],
   "source": []
  },
  {
   "cell_type": "code",
   "execution_count": null,
   "metadata": {
    "scrolled": true
   },
   "outputs": [],
   "source": [
    "# 함수를 호출해봅시다."
   ]
  },
  {
   "cell_type": "code",
   "execution_count": null,
   "metadata": {
    "scrolled": true
   },
   "outputs": [],
   "source": []
  },
  {
   "cell_type": "markdown",
   "metadata": {},
   "source": [
    "## 실습문제 - 스태틱(정적) 메소드\n",
    "\n",
    "> 계산기 class인 `Calculator`를 만들어봅시다.\n",
    "\n",
    "* 다음과 같이 정적 메소드를 구성한다. \n",
    "* 모든 정적 메서드는, 두 수를 받아서 각각의 연산을 한 결과를 리턴한다.\n",
    "* `a` 연산자 `b` 의 순서로 연산한다. (`a - b`, `a / b`)\n",
    "    1. `add(a, b)` : 덧셈\n",
    "    2. `sub(a, b)` : 뺄셈 \n",
    "    3. `mul(a, b)` : 곱셈\n",
    "    4. `div(a, b)` : 나눗셈"
   ]
  },
  {
   "cell_type": "code",
   "execution_count": null,
   "metadata": {},
   "outputs": [],
   "source": [
    "# 아래에 코드를 작성해주세요."
   ]
  },
  {
   "cell_type": "code",
   "execution_count": null,
   "metadata": {},
   "outputs": [],
   "source": [
    "class Calculator:\n",
    "    \n",
    "    @staticmethod\n",
    "    def add(a, b):\n",
    "        \n",
    "    @staticmethod\n",
    "    def sub(a, b):\n",
    "        \n",
    "    @staticmethod\n",
    "    def mul(a, b):\n",
    "        \n",
    "    @staticmethod\n",
    "    def div(a, b):\n",
    "    pass"
   ]
  },
  {
   "cell_type": "code",
   "execution_count": null,
   "metadata": {},
   "outputs": [],
   "source": [
    "# 정적메소드를 호출해보세요."
   ]
  },
  {
   "cell_type": "code",
   "execution_count": null,
   "metadata": {},
   "outputs": [],
   "source": []
  },
  {
   "cell_type": "markdown",
   "metadata": {},
   "source": [
    "## 연산자 오버라이딩(중복 정의, 덮어 쓰기)\n",
    "\n",
    "* 파이썬에 기본적으로 정의된 연산자를 직접적으로 정의하여 활용할 수 있습니다. \n",
    "\n",
    "* 몇가지만 소개하고 활용해봅시다.\n",
    "\n",
    "```\n",
    "+  __add__   \n",
    "-  __sub__\n",
    "*  __mul__\n",
    "<  __lt__\n",
    "<= __le__\n",
    "== __eq__\n",
    "!= __ne__\n",
    ">= __ge__\n",
    ">  __gt__\n",
    "```"
   ]
  },
  {
   "cell_type": "code",
   "execution_count": null,
   "metadata": {},
   "outputs": [],
   "source": [
    "# 사람과 사람을 같은지 비교하면, 이는 나이가 같은지 비교한 결과를 반환하도록 만들어봅시다."
   ]
  },
  {
   "cell_type": "code",
   "execution_count": 15,
   "metadata": {},
   "outputs": [],
   "source": [
    "class Person:\n",
    "    population = 0\n",
    "    \n",
    "    def __init__(self, name, age):\n",
    "        self.name = name\n",
    "        self.age = age\n",
    "        Person.population += 1\n",
    "        \n",
    "    def greeting(self):\n",
    "        print(f'{self.name} 입니다. 반갑습니다!')\n",
    "        \n",
    "    def __repr__(self):\n",
    "         return f'< \"name:\" {self.name}, \"age\": {self.age} >'\n",
    "    \n",
    "    def __gt__(self, other):\n",
    "        return self.age > other.age\n",
    "        "
   ]
  },
  {
   "cell_type": "code",
   "execution_count": 17,
   "metadata": {},
   "outputs": [
    {
     "name": "stdout",
     "output_type": "stream",
     "text": [
      "False\n",
      "False\n"
     ]
    }
   ],
   "source": [
    "# 연산자를 호출해 봅시다.\n",
    "a = Person('a',10)\n",
    "b = Person('b',12)\n",
    "\n",
    "print(a.__gt__(b))\n",
    "print(a>b)"
   ]
  },
  {
   "cell_type": "markdown",
   "metadata": {},
   "source": [
    "gt lt\n",
    "ge le\n",
    "eq ne\n",
    "sort 가능"
   ]
  },
  {
   "cell_type": "code",
   "execution_count": null,
   "metadata": {},
   "outputs": [],
   "source": []
  },
  {
   "cell_type": "markdown",
   "metadata": {},
   "source": [
    "# 상속 \n",
    "\n",
    "## 기초\n",
    "\n",
    "* 클래스에서 가장 큰 특징은 '상속' 기능을 가지고 있다는 것이다. \n",
    "\n",
    "* 부모 클래스의 모든 속성이 자식 클래스에게 상속 되므로 코드재사용성이 높아집니다.\n",
    "\n",
    "```python\n",
    "class DerivedClassName(BaseClassName):\n",
    "    code block\n",
    "class SubClass(SupperClass):\n",
    "    \n",
    "class ChiledClass(ParentClass):\n",
    "    \n",
    "```"
   ]
  },
  {
   "cell_type": "code",
   "execution_count": null,
   "metadata": {},
   "outputs": [],
   "source": [
    "# 인사만 할 수 있는 간단한 사람 클래스를 만들어봅시다."
   ]
  },
  {
   "cell_type": "code",
   "execution_count": 28,
   "metadata": {},
   "outputs": [],
   "source": [
    "class Person:\n",
    "    population = 0\n",
    "    \n",
    "    def __init__(self, name, age):\n",
    "        self.name = name\n",
    "        self.age = age\n",
    "        Person.population += 1\n",
    "        \n",
    "    def greeting(self):\n",
    "        print(f'{self.name} 입니다. 반갑습니다!')"
   ]
  },
  {
   "cell_type": "code",
   "execution_count": null,
   "metadata": {},
   "outputs": [],
   "source": [
    "# 사람 클래스를 상속받아 학생 클래스를 만들어봅시다."
   ]
  },
  {
   "cell_type": "code",
   "execution_count": 26,
   "metadata": {},
   "outputs": [],
   "source": [
    "class Student(Person):\n",
    "    def __init__(self, name, age, student_id):\n",
    "        super().__init__(name,age)\n",
    "        self.student_id = student_id\n",
    "        \n",
    "    def greeting(self):\n",
    "        print(f'안녕하세요! {self.student_id}학번 {self.name} 입니다. 반갑습니다!')"
   ]
  },
  {
   "cell_type": "code",
   "execution_count": null,
   "metadata": {},
   "outputs": [],
   "source": [
    "# 학생을 만들어봅시다."
   ]
  },
  {
   "cell_type": "code",
   "execution_count": 27,
   "metadata": {},
   "outputs": [
    {
     "name": "stdout",
     "output_type": "stream",
     "text": [
      "안녕하세요! 1학번 john 입니다. 반갑습니다!\n"
     ]
    }
   ],
   "source": [
    "s1 = Student('john',34,'1')\n",
    "s1.greeting()"
   ]
  },
  {
   "cell_type": "code",
   "execution_count": null,
   "metadata": {},
   "outputs": [],
   "source": [
    "# 부모 클래스에 정의를 했음에도 메소드를 호출 할 수 있습니다."
   ]
  },
  {
   "cell_type": "code",
   "execution_count": null,
   "metadata": {},
   "outputs": [],
   "source": []
  },
  {
   "cell_type": "markdown",
   "metadata": {},
   "source": [
    "* 이처럼 상속은 공통된 속성이나 메소드를 부모 클래스에 정의하고, 이를 상속받아 다양한 형태의 사람들을 만들 수 있습니다."
   ]
  },
  {
   "cell_type": "code",
   "execution_count": null,
   "metadata": {},
   "outputs": [],
   "source": [
    "# 진짜 상속관계인지 확인해봅시다."
   ]
  },
  {
   "cell_type": "code",
   "execution_count": null,
   "metadata": {},
   "outputs": [],
   "source": []
  },
  {
   "cell_type": "code",
   "execution_count": null,
   "metadata": {},
   "outputs": [],
   "source": []
  },
  {
   "cell_type": "markdown",
   "metadata": {},
   "source": [
    "## super()\n",
    "\n",
    "* 자식 클래스에 메서드를 추가 구현할 수 있습니다.\n",
    "\n",
    "* 부모 클래스의 내용을 사용하고자 할 때, `super()`를 사용할 수 있습니다."
   ]
  },
  {
   "cell_type": "code",
   "execution_count": null,
   "metadata": {},
   "outputs": [],
   "source": []
  },
  {
   "cell_type": "markdown",
   "metadata": {},
   "source": [
    "* 위의 코드를 보면, 상속을 했음에도 불구하고 동일한 코드가 반복됩니다. "
   ]
  },
  {
   "cell_type": "code",
   "execution_count": null,
   "metadata": {},
   "outputs": [],
   "source": [
    "# 이를 수정해봅시다."
   ]
  },
  {
   "cell_type": "code",
   "execution_count": null,
   "metadata": {},
   "outputs": [],
   "source": []
  },
  {
   "cell_type": "markdown",
   "metadata": {},
   "source": [
    "## 메서드 오버라이딩\n",
    "\n",
    "* 메서드를 재정의할 수도 있습니다."
   ]
  },
  {
   "cell_type": "code",
   "execution_count": null,
   "metadata": {},
   "outputs": [],
   "source": [
    "# 군인은 다른 인사를 합니다."
   ]
  },
  {
   "cell_type": "code",
   "execution_count": null,
   "metadata": {},
   "outputs": [],
   "source": [
    "# 군인은 다른 인사를 합니다."
   ]
  },
  {
   "cell_type": "markdown",
   "metadata": {},
   "source": [
    "## 상속관계에서의 이름공간\n",
    "\n",
    "* 기존에 인스턴스 -> 클래스순으로 이름 공간을 탐색해나가는 과정에서 상속관계에 있으면 아래와 같이 확장됩니다.\n",
    "\n",
    "* instance => class => global\n",
    "* 인스턴스 -> 자식 클래스 -> 부모 클래스 -> 전역"
   ]
  },
  {
   "cell_type": "markdown",
   "metadata": {},
   "source": [
    "## 실습1 \n",
    "\n",
    "> Teacher 클래스를 만들어보고 Student와 Teacher 클래스에 각각 다른 행동의 메소드들을 하나씩 추가해봅시다."
   ]
  },
  {
   "cell_type": "code",
   "execution_count": 36,
   "metadata": {},
   "outputs": [],
   "source": [
    "# 아래에 코드를 작성해주세요.\n",
    "class Student(Person):\n",
    "    def __init__(self, name, age, class_id):\n",
    "        super().__init__(name,age)\n",
    "        self.class_id = class_id\n",
    "        \n",
    "    def greeting(self):\n",
    "        print(f'안녕하세요! {self.class_id}반 {self.name} 입니다. 반갑습니다!')\n",
    "    \n",
    "    def git_error(self):\n",
    "        return '깃이 멈췄어요!'\n",
    "\n",
    "class Teacher(Person):\n",
    "    def __init__(self, name, age, class_id):\n",
    "        super().__init__(name,age)\n",
    "        self.class_id = class_id\n",
    "        \n",
    "    def greeting(self):\n",
    "        print(f'안녕하세요! {self.class_id}반 담임 {self.name} 입니다. 반갑습니다!')\n",
    "    \n",
    "    def solve(self):\n",
    "        return '해결!'"
   ]
  },
  {
   "cell_type": "code",
   "execution_count": 37,
   "metadata": {},
   "outputs": [
    {
     "name": "stdout",
     "output_type": "stream",
     "text": [
      "깃이 멈췄어요!\n",
      "해결!\n"
     ]
    }
   ],
   "source": [
    "s21_t1 = Teacher('갓동주',34,1)\n",
    "s21_s1 = Student('a',27,1)\n",
    "print(s21_s1.git_error())\n",
    "print(s21_t1.solve())"
   ]
  },
  {
   "cell_type": "markdown",
   "metadata": {},
   "source": [
    "## 실습2\n",
    "\n",
    "> 사실 사람은 포유류입니다. \n",
    ">\n",
    "> Animal Class를 만들고, Person클래스가 상속받도록 구성해봅시다.\n",
    ">\n",
    "> 변수나, 메소드는 자유롭게 만들어봅시다."
   ]
  },
  {
   "cell_type": "code",
   "execution_count": null,
   "metadata": {},
   "outputs": [],
   "source": [
    "# 아래에 코드를 작성해주세요."
   ]
  },
  {
   "cell_type": "markdown",
   "metadata": {},
   "source": [
    "## 다중 상속\n",
    "두개 이상의 클래스를 상속받는 경우, 다중상속이 됩니다."
   ]
  },
  {
   "cell_type": "code",
   "execution_count": null,
   "metadata": {},
   "outputs": [],
   "source": [
    "# Person 클래스를 정의합니다."
   ]
  },
  {
   "cell_type": "code",
   "execution_count": null,
   "metadata": {},
   "outputs": [],
   "source": []
  },
  {
   "cell_type": "code",
   "execution_count": null,
   "metadata": {},
   "outputs": [],
   "source": [
    "# Mom 클래스를 정의합니다."
   ]
  },
  {
   "cell_type": "code",
   "execution_count": null,
   "metadata": {},
   "outputs": [],
   "source": []
  },
  {
   "cell_type": "code",
   "execution_count": null,
   "metadata": {},
   "outputs": [],
   "source": [
    "# Dad 클래스를 정의합니다."
   ]
  },
  {
   "cell_type": "code",
   "execution_count": null,
   "metadata": {},
   "outputs": [],
   "source": []
  },
  {
   "cell_type": "code",
   "execution_count": null,
   "metadata": {},
   "outputs": [],
   "source": [
    "# Child 클래스를 정의합니다."
   ]
  },
  {
   "cell_type": "code",
   "execution_count": null,
   "metadata": {},
   "outputs": [],
   "source": []
  },
  {
   "cell_type": "code",
   "execution_count": null,
   "metadata": {},
   "outputs": [],
   "source": [
    "# Child 의 인스턴스 객체를 확인합니다."
   ]
  },
  {
   "cell_type": "code",
   "execution_count": null,
   "metadata": {},
   "outputs": [],
   "source": []
  },
  {
   "cell_type": "code",
   "execution_count": null,
   "metadata": {},
   "outputs": [],
   "source": [
    "# cry 메서드를 실행합니다."
   ]
  },
  {
   "cell_type": "code",
   "execution_count": null,
   "metadata": {},
   "outputs": [],
   "source": []
  },
  {
   "cell_type": "code",
   "execution_count": null,
   "metadata": {},
   "outputs": [],
   "source": [
    "# swim 메서드를 실행합니다."
   ]
  },
  {
   "cell_type": "code",
   "execution_count": null,
   "metadata": {},
   "outputs": [],
   "source": []
  },
  {
   "cell_type": "code",
   "execution_count": null,
   "metadata": {},
   "outputs": [],
   "source": [
    "# walk 메서드를 실행합니다."
   ]
  },
  {
   "cell_type": "code",
   "execution_count": null,
   "metadata": {},
   "outputs": [],
   "source": []
  },
  {
   "cell_type": "code",
   "execution_count": null,
   "metadata": {},
   "outputs": [],
   "source": [
    "# gene 은 누구의 속성을 참조할까요?"
   ]
  },
  {
   "cell_type": "code",
   "execution_count": null,
   "metadata": {},
   "outputs": [],
   "source": []
  },
  {
   "cell_type": "code",
   "execution_count": null,
   "metadata": {},
   "outputs": [],
   "source": [
    "# 상속 순서를 바꿔봅시다."
   ]
  },
  {
   "cell_type": "code",
   "execution_count": null,
   "metadata": {},
   "outputs": [],
   "source": []
  },
  {
   "cell_type": "code",
   "execution_count": null,
   "metadata": {},
   "outputs": [],
   "source": [
    "# Child 의 인스턴스 객체를 확인합니다."
   ]
  },
  {
   "cell_type": "code",
   "execution_count": null,
   "metadata": {},
   "outputs": [],
   "source": []
  },
  {
   "cell_type": "code",
   "execution_count": null,
   "metadata": {},
   "outputs": [],
   "source": [
    "# cry메서드를 실행합니다."
   ]
  },
  {
   "cell_type": "code",
   "execution_count": null,
   "metadata": {},
   "outputs": [],
   "source": []
  },
  {
   "cell_type": "code",
   "execution_count": null,
   "metadata": {},
   "outputs": [],
   "source": [
    "# swim 메서드를 실행합니다."
   ]
  },
  {
   "cell_type": "code",
   "execution_count": null,
   "metadata": {},
   "outputs": [],
   "source": []
  },
  {
   "cell_type": "code",
   "execution_count": null,
   "metadata": {},
   "outputs": [],
   "source": [
    "# walk 메서드를 실행합니다."
   ]
  },
  {
   "cell_type": "code",
   "execution_count": null,
   "metadata": {},
   "outputs": [],
   "source": []
  },
  {
   "cell_type": "code",
   "execution_count": null,
   "metadata": {},
   "outputs": [],
   "source": [
    "# gene 은 누구의 속성을 참조할까요?"
   ]
  },
  {
   "cell_type": "code",
   "execution_count": null,
   "metadata": {},
   "outputs": [],
   "source": []
  },
  {
   "cell_type": "markdown",
   "metadata": {},
   "source": [
    "## 포켓몬 구현하기\n",
    "\n",
    "> 포켓몬을 상속하는 이상해씨, 파이리, 꼬부기를 구현해 봅시다. 게임을 만든다면 아래와 같이 먼저 기획을 하고 코드로 구현하게 됩니다.\n",
    "우선 아래와 같이 구현해 보고, 추가로 본인이 원하는 대로 구현 및 수정해 봅시다.\n",
    "\n",
    "모든 포켓몬은 다음과 같은 속성을 갖습니다.\n",
    "* `name`: 이름\n",
    "* `level`: 레벨\n",
    "    * 레벨은 시작할 때 모두 5 입니다.\n",
    "* `hp`: 체력\n",
    "    * 체력은 `level` * 20 입니다.\n",
    "* `exp`: 경험치\n",
    "    * 상대방을 쓰러뜨리면 상대방 `level` * 15 를 획득합니다.\n",
    "    * 경험치는 `level` * 100 이 되면, 레벨이 하나 올라가고 0부터 추가 됩니다. \n",
    "\n",
    "이후 이상해씨, 파이리, 꼬부기는 포켓몬을 상속하여 자유롭게 구현해 봅시다.\n",
    "\n",
    "추가적으로 \n",
    "\n",
    "* 포켓몬 => 물포켓몬 => 꼬부기 \n",
    "* 포켓몬 => 물포켓몬 => 잉어킹\n",
    "* 포켓몬 => 비행포켓몬, 불포켓몬 => 파이어\n",
    "\n",
    "와 같이 다양한 추가 상속관계도 구현해 봅시다."
   ]
  },
  {
   "cell_type": "code",
   "execution_count": null,
   "metadata": {},
   "outputs": [],
   "source": [
    "# 아래에 코드를 작성해주세요.\n",
    "class Pokemon:\n",
    "    pokemon = dict()\n",
    "    name = 'unknown'\n",
    "    level = 1\n",
    "    max_hp = level * 20\n",
    "    hp = level * 20\n",
    "    exp = 0\n",
    "    \n",
    "    \n",
    "    def __init__(self, name = 'unknown', level = 1, hp = None):\n",
    "        self.name = name\n",
    "        self.level = level\n",
    "        self.max_hp = level * 20\n",
    "        self.hp = hp or level * 20\n",
    "        self.exp = 0\n",
    "    \n",
    "    def bark(self):\n",
    "        print('pikachu')\n",
    "        \n",
    "    def body_attack(self,to_pokemon):\n",
    "        print(f'{self.name}몸통박치기!')\n",
    "        to_pokemon.hp -= (self.level * 5)\n",
    "        # 몸통박치기. 상대방의 hp 를 내 level * 5 만큼 차감합니다.\n",
    "    \n",
    "    def thousond_volt(self,to_pokemon):\n",
    "        print(f'{self.name}십만볼트!')\n",
    "        to_pokemon.hp -= (self.level * 5)\n",
    "        # 십만볼트. 상대방의 hp 를 내 level * 7 만큼 차감합니다.\n",
    "        \n",
    "    def __repr__(self):\n",
    "        return f'{self.name}의 레벨은 {self.level} 체력은 {self.hp}/{self.max_hp} 겸험치는{self.exp}/{self.level*15}'\n",
    "    \n",
    "    \n",
    "    \n",
    "def fight(pokemon_a,pokemon_b):\n",
    "    turn = 0\n",
    "    while True:\n",
    "        if turn == 0:\n",
    "            a = input(f'{pokemon_a.name}의 차례\\n몸통박치기: 1, 십만볼트: 2 \\n사용할 기술은? : ')\n",
    "            if a == '1':\n",
    "                pokemon_a.body_attack(pokemon_b)\n",
    "            elif a == '2':\n",
    "                pokemon_a.thousond_volt(pokemon_b)\n",
    "            else:\n",
    "                pokemon_a.bark()\n",
    "                \n",
    "            if pokemon_b.hp <= 0:\n",
    "                print(f'{pokemon_b.name}의 체력은 0/{pokemon_b.max_hp}')\n",
    "                print(f'승자는 {pokemon_a.name}!')\n",
    "                win(pokemon_a, pokemon_b)\n",
    "                break\n",
    "            else:\n",
    "                print(f'{pokemon_b.name}의 체력은 {pokemon_b.hp}/{pokemon_b.max_hp}')\n",
    "                trun = 1\n",
    "            \n",
    "        else:\n",
    "            b = input(f'{pokemon_b.name}의 차례\\n몸통박치기: 1, 십만볼트: 2 \\n사용할 기술은? : ')\n",
    "            if b == '1':\n",
    "                pokemon_b.body_attack(pokemon_a)\n",
    "            elif b == '2':\n",
    "                pokemon_b.thousond_volt(pokemon_a)\n",
    "            else:\n",
    "                pokemon_b.bark()\n",
    "    \n",
    "            if pokemon_a.hp <= 0:\n",
    "                print(f'{pokemon_a.name}의 체력은 0/{pokemon_a.max_hp}')\n",
    "                print(f'승자는 {pokemon_b.name}!')\n",
    "                win(pokemon_b, pokemon_a)\n",
    "                break\n",
    "            else:\n",
    "                print(f'{pokemon_a.name}의 체력은 {pokemon_a.hp}/{pokemon_a.max_hp}')\n",
    "                trun = 0\n",
    "\n",
    "def win(pokemon_a,pokemon_b):\n",
    "    exp = pokemon_a.exp + pokemon_b.level * 15\n",
    "    while True:\n",
    "        if exp > pokemon_a.level * 100:\n",
    "            print(f'{pokemon_a.name} level up!')\n",
    "            pokemon_a.level += 1\n",
    "            exp -=pokemon_a.level * 100\n",
    "        else:\n",
    "            pokemon_a.exp = exp\n",
    "            break"
   ]
  },
  {
   "cell_type": "code",
   "execution_count": null,
   "metadata": {},
   "outputs": [],
   "source": []
  },
  {
   "cell_type": "code",
   "execution_count": null,
   "metadata": {},
   "outputs": [],
   "source": []
  },
  {
   "cell_type": "code",
   "execution_count": null,
   "metadata": {},
   "outputs": [],
   "source": []
  },
  {
   "cell_type": "code",
   "execution_count": null,
   "metadata": {},
   "outputs": [],
   "source": []
  },
  {
   "cell_type": "code",
   "execution_count": null,
   "metadata": {},
   "outputs": [],
   "source": []
  }
 ],
 "metadata": {
  "kernelspec": {
   "display_name": "Python 3",
   "language": "python",
   "name": "python3"
  },
  "language_info": {
   "codemirror_mode": {
    "name": "ipython",
    "version": 3
   },
   "file_extension": ".py",
   "mimetype": "text/x-python",
   "name": "python",
   "nbconvert_exporter": "python",
   "pygments_lexer": "ipython3",
   "version": "3.7.3"
  },
  "latex_envs": {
   "LaTeX_envs_menu_present": true,
   "autoclose": false,
   "autocomplete": true,
   "bibliofile": "biblio.bib",
   "cite_by": "apalike",
   "current_citInitial": 1,
   "eqLabelWithNumbers": true,
   "eqNumInitial": 1,
   "hotkeys": {
    "equation": "Ctrl-E",
    "itemize": "Ctrl-I"
   },
   "labels_anchors": false,
   "latex_user_defs": false,
   "report_style_numbering": false,
   "user_envs_cfg": false
  },
  "toc": {
   "base_numbering": 1,
   "nav_menu": {},
   "number_sections": true,
   "sideBar": true,
   "skip_h1_title": false,
   "title_cell": "Table of Contents",
   "title_sidebar": "Contents",
   "toc_cell": false,
   "toc_position": {},
   "toc_section_display": true,
   "toc_window_display": false
  }
 },
 "nbformat": 4,
 "nbformat_minor": 2
}
